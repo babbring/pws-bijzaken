{
 "cells": [
  {
   "cell_type": "markdown",
   "id": "056165d3-7a64-46f7-82f3-ac8c30cd888e",
   "metadata": {},
   "source": [
    "### De backtest class\n",
    "Heeft een symbol van het aandeel om de data te vinden, maakt daar een dataframe van (tabel). Heeft verschillende methods met toepassing op de strategie/backtest, de eerste om de benodigde indicators te berekenen, de tweede method is om de koop/verkoop signalen te genereren door middel van masks die op hun beurt weer gebaseerd zijn op de verschillende indicatoren. Deze signalen genereren markeringen waarbij het signaal ofwel koop ofwel verkoop is, in de derde method worden dese koop en verkoop signalen met elkaar gekoppeld zodat er geen dubbele posities. Als er dus twee verkoop signalen achter elkaar zijn dan vervalt er dus 1. Als de strategie alleen long posities aangaat en het eerste signaal is een verkoop signaal waarna een koop signaal volgt dan vervalt het eerste signaal ook. De laatste method berekent de winst en andere benodigde gegevens om de prestaties van het algoritme te bepalen. Met deze backtest class kunnen ook strategieën die niet gebouwd zijn op technische indicatoren getest worden, de method voor het berekenen van de indicatoren en het bepalen van de signalen is dan anders.\n"
   ]
  },
  {
   "cell_type": "code",
   "execution_count": 1,
   "id": "fa2c19ac-1171-4e64-bdf2-f8f42eca7c9f",
   "metadata": {},
   "outputs": [],
   "source": [
    "import pandas as pd\n",
    "import numpy as np\n",
    "import ta\n",
    "import matplotlib.pyplot as plt\n",
    "from tiingo import TiingoClient"
   ]
  },
  {
   "cell_type": "markdown",
   "id": "20b30121-07ff-4649-95a7-00167653134f",
   "metadata": {
    "tags": []
   },
   "source": [
    "De numpy library zorgt ervoor dat we array's kunnen maken in plaats van python lists, deze nemen een stuk meer opslagruimte op omdat er allerlei informatie wordt opgeslagen die niet nodig is voor een lijst van getallen. Ook kan je met de numpy library goed met getallen werken. De pandas library is een van de belangrijkste bij het werken met veel data, het is de meest gebruikte library bij het werken met veel data in python. De ta library helpt ons met het berekenen van technische indicatoren, dit kunnen we zelf doen maar dit scheelt het invoeren van veel formules. Met de matplotlib library kunnen we mooi gegevens uit de data plotten. De laatste library die we gebruiken is de tiingo library, waarmee we de api van de historische data kunnen bedienen."
   ]
  },
  {
   "cell_type": "code",
   "execution_count": 1,
   "id": "c6fd7b37-c8a7-4f7e-b0d5-59559ece3552",
   "metadata": {},
   "outputs": [
    {
     "ename": "SyntaxError",
     "evalue": "invalid syntax (2125196590.py, line 3)",
     "output_type": "error",
     "traceback": [
      "\u001b[1;36m  Input \u001b[1;32mIn [1]\u001b[1;36m\u001b[0m\n\u001b[1;33m    config['api_key'] =\u001b[0m\n\u001b[1;37m                        ^\u001b[0m\n\u001b[1;31mSyntaxError\u001b[0m\u001b[1;31m:\u001b[0m invalid syntax\n"
     ]
    }
   ],
   "source": [
    "config = {}\n",
    "config['session'] = True\n",
    "config['api_key'] = \n",
    "#alpha vantage api key: \n",
    "\n",
    "client = TiingoClient(config)"
   ]
  },
  {
   "cell_type": "markdown",
   "id": "a404abbd-9cd8-4d99-87e2-ac636d291427",
   "metadata": {},
   "source": [
    "In de bovenstaande code verbinden we met de api via onze api key. Vanaf nu kunnen we met de client (de verbinding met de api) met historische data werken."
   ]
  },
  {
   "cell_type": "code",
   "execution_count": 17,
   "id": "e1c38215-8a0e-49d8-af4c-8e897cb036e2",
   "metadata": {},
   "outputs": [],
   "source": [
    "class Backtest:\n",
    "    \n",
    "    def __init__(self, symbol):\n",
    "        self.symbol = symbol\n",
    "        frequency = \"daily\"\n",
    "        data = client.get_ticker_price(symbol,\n",
    "                                            fmt='json',\n",
    "                                            startDate='2010-01-01',\n",
    "                                            endDate='2022-6-1',\n",
    "                                            frequency=frequency)\n",
    "        self.df = pd.DataFrame(data)\n",
    "        if self.df.empty:\n",
    "            print(\"no data pulled\")\n",
    "        else:\n",
    "            self.df['date'] = pd.to_datetime(self.df['date'])\n",
    "            if frequency == 'daily':\n",
    "                self.df['close'] = self.df['adjClose']\n",
    "                self.df['open'] = self.df['adjOpen']\n",
    "                self.df['high'] = self.df['adjHigh']\n",
    "                self.df['low'] = self.df['adjLow']\n",
    "            self.df.set_index('date', inplace=True)\n",
    "            self.calc_indicators()\n",
    "            self.generate_signals()\n",
    "            self.match_signals()\n",
    "            self.gains = self.calc_profit()\n",
    "            self.cumul_gains = ((self.gains + 1).prod() - 1) * 100\n",
    "            self.max_dd = self.gains.min() * 100\n",
    "            self.plot_chart()\n",
    "\n",
    "        \n",
    "        \n",
    "    def calc_indicators(self):\n",
    "        self.df['ma_20'] = self.df.close.rolling(20).mean()\n",
    "        self.df['ma_50'] = self.df.close.rolling(50).mean()\n",
    "        self.df['ma_100'] = self.df.close.rolling(100).mean()\n",
    "        self.df['volatility'] = self.df.close.rolling(20).std()\n",
    "        self.df['upper_bb'] = self.df.ma_20 + (2 * self.df.volatility)\n",
    "        self.df['lower_bb'] = self.df.ma_20 - (2 * self.df.volatility)\n",
    "        self.df['rsi'] = ta.momentum.rsi(self.df.close, window=6)\n",
    "        self.df['atr'] = ta.volatility.AverageTrueRange(high=self.df.high, low=self.df.low, close=self.df.close, window=14, fillna=False).average_true_range()\n",
    "        self.df.dropna(inplace=True)\n",
    "    \n",
    "    def generate_signals(self):\n",
    "        conditions = [(self.df.close < self.df.lower_bb), (self.df.close > self.df.upper_bb)]\n",
    "        choices = ['Buy', 'Sell']\n",
    "        self.df['signal'] = np.select(conditions, choices)\n",
    "        self.df.signal = self.df.signal.shift()\n",
    "        self.df.dropna(inplace=True)\n",
    "    \n",
    "    def match_signals(self):\n",
    "        position = False\n",
    "        buydates, selldates = [],[]\n",
    "        \n",
    "        for index, row in self.df.iterrows():\n",
    "            if not position and row['signal'] == 'Buy':\n",
    "                position = True\n",
    "                buydates.append(index)\n",
    "                buyprice = self.df.loc[index]['open']\n",
    "                \n",
    "            if position and row['signal'] == 'Sell':\n",
    "                position = False\n",
    "                selldates.append(index)\n",
    "            # elif position and row['low'] < (buyprice - 0.5 * row['atr']):\n",
    "            #     position = False\n",
    "            #     idx = np.searchsorted(self.df.index, index)\n",
    "            #     selldates.append(self.df.index[min(idx+1, len(self.df)-1)])\n",
    "            # elif position and row['low'] > (buyprice + 2 * row['atr']):\n",
    "            #     position = False\n",
    "            #     idx = np.searchsorted(self.df.index, index)\n",
    "            #     selldates.append(self.df.index[min(idx+1, len(self.df)-1)])\n",
    "        \n",
    "        self.buy_series = self.df.loc[buydates].open\n",
    "        self.sell_series = self.df.loc[selldates].open\n",
    "        \n",
    "    def calc_profit(self):\n",
    "        if self.buy_series.size > self.sell_series.size:\n",
    "            self.buy_series = self.buy_series[:-1]\n",
    "        return pd.DataFrame(data={'gains':(self.sell_series.values - self.buy_series.values)/self.buy_series.values, 'date': self.sell_series.index}).set_index('date')\n",
    "    \n",
    "    def plot_chart(self):\n",
    "        account_start = 7.702180\n",
    "        cumul_gains = []\n",
    "        for i in range(self.gains.shape[0]):\n",
    "            if i == 0:\n",
    "                cumul_gains.append(self.gains['gains'][i] + 1)\n",
    "            else:\n",
    "                cumul_gains.append((self.gains['gains'][i] + 1) * cumul_gains[i-1])\n",
    "        self.gains['cumul_gains'] = cumul_gains\n",
    "        self.gains['account_value'] = self.gains['cumul_gains'] * account_start\n",
    "        new_row = pd.DataFrame({'date':self.df.iloc[0].name, 'gains':1, 'cumul_gains':1, 'account_value':account_start}, index=[0]).set_index('date')\n",
    "        self.gains = pd.concat([new_row, self.gains], ignore_index=False)\n",
    "            "
   ]
  },
  {
   "cell_type": "code",
   "execution_count": 18,
   "id": "f53b0e16-e18d-4289-b463-bd8e18a3da28",
   "metadata": {},
   "outputs": [],
   "source": [
    "apple = Backtest(\"AAPL\")"
   ]
  },
  {
   "cell_type": "code",
   "execution_count": 19,
   "id": "f9dd34cc-35e7-4b22-92cf-72469e7121f9",
   "metadata": {},
   "outputs": [
    {
     "data": {
      "text/plain": [
       "<AxesSubplot:xlabel='date'>"
      ]
     },
     "execution_count": 19,
     "metadata": {},
     "output_type": "execute_result"
    },
    {
     "data": {
      "image/png": "[encoded data removed]",
      "text/plain": [
       "<Figure size 1440x432 with 1 Axes>"
      ]
     },
     "metadata": {
      "needs_background": "light"
     },
     "output_type": "display_data"
    }
   ],
   "source": [
    "apple.gains[\"account_value\"].plot(figsize=(20,6))\n",
    "apple.df['close'].plot(figsize=(20,6))"
   ]
  },
  {
   "cell_type": "code",
   "execution_count": 20,
   "id": "570f7432-46b9-4e12-b24c-7877d7ded7be",
   "metadata": {},
   "outputs": [
    {
     "data": {
      "text/plain": [
       "30"
      ]
     },
     "execution_count": 20,
     "metadata": {},
     "output_type": "execute_result"
    }
   ],
   "source": [
    "apple.buy_series.size\n"
   ]
  }
 ],
 "metadata": {
  "kernelspec": {
   "display_name": "Python 3 (ipykernel)",
   "language": "python",
   "name": "python3"
  },
  "language_info": {
   "codemirror_mode": {
    "name": "ipython",
    "version": 3
   },
   "file_extension": ".py",
   "mimetype": "text/x-python",
   "name": "python",
   "nbconvert_exporter": "python",
   "pygments_lexer": "ipython3",
   "version": "3.10.2"
  }
 },
 "nbformat": 4,
 "nbformat_minor": 5
}
