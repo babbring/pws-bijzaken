{
 "cells": [
  {
   "cell_type": "markdown",
   "id": "056165d3-7a64-46f7-82f3-ac8c30cd888e",
   "metadata": {},
   "source": [
    "### De backtest class\n",
    "Heeft een symbol van het aandeel om de data te vinden, maakt daar een dataframe van (tabel). Heeft verschillende methods met toepassing op de strategie/backtest, de eerste om de benodigde indicators te berekenen, de tweede method is om de koop/verkoop signalen te genereren door middel van masks die op hun beurt weer gebaseerd zijn op de verschillende indicatoren. Deze signalen genereren markeringen waarbij het signaal ofwel koop ofwel verkoop is, in de derde method worden dese koop en verkoop signalen met elkaar gekoppeld zodat er geen dubbele posities. Als er dus twee verkoop signalen achter elkaar zijn dan vervalt er dus 1. Als de strategie alleen long posities aangaat en het eerste signaal is een verkoop signaal waarna een koop signaal volgt dan vervalt het eerste signaal ook. De laatste method berekent de winst en andere benodigde gegevens om de prestaties van het algoritme te bepalen. Met deze backtest class kunnen ook strategieën die niet gebouwd zijn op technische indicatoren getest worden, de method voor het berekenen van de indicatoren en het bepalen van de signalen is dan anders.\n"
   ]
  },
  {
   "cell_type": "code",
   "execution_count": 1,
   "id": "fa2c19ac-1171-4e64-bdf2-f8f42eca7c9f",
   "metadata": {},
   "outputs": [],
   "source": [
    "import pandas as pd\n",
    "import numpy as np\n",
    "import ta\n",
    "import matplotlib.pyplot as plt\n",
    "from tiingo import TiingoClient"
   ]
  },
  {
   "cell_type": "markdown",
   "id": "20b30121-07ff-4649-95a7-00167653134f",
   "metadata": {
    "tags": []
   },
   "source": [
    "De numpy library zorgt ervoor dat we array's kunnen maken in plaats van python lists, deze nemen een stuk meer opslagruimte op omdat er allerlei informatie wordt opgeslagen die niet nodig is voor een lijst van getallen. Ook kan je met de numpy library goed met getallen werken. De pandas library is een van de belangrijkste bij het werken met veel data, het is de meest gebruikte library bij het werken met veel data in python. De ta library helpt ons met het berekenen van technische indicatoren, dit kunnen we zelf doen maar dit scheelt het invoeren van veel formules. Met de matplotlib library kunnen we mooi gegevens uit de data plotten. De laatste library die we gebruiken is de tiingo library, waarmee we de api van de historische data kunnen bedienen."
   ]
  },
  {
   "cell_type": "code",
   "execution_count": 3,
   "id": "c6fd7b37-c8a7-4f7e-b0d5-59559ece3552",
   "metadata": {},
   "outputs": [],
   "source": [
    "config = {}\n",
    "config['session'] = True\n",
    "config['api_key'] = \"635bdbd888f766a407a43a68f241602aa5b218b9\"\n",
    "\n",
    "client = TiingoClient(config)"
   ]
  },
  {
   "cell_type": "markdown",
   "id": "a404abbd-9cd8-4d99-87e2-ac636d291427",
   "metadata": {},
   "source": [
    "In de bovenstaande code verbinden we met de api via onze api key. Vanaf nu kunnen we met de client (de verbinding met de api) met historische data werken."
   ]
  },
  {
   "cell_type": "code",
   "execution_count": 5,
   "id": "e1c38215-8a0e-49d8-af4c-8e897cb036e2",
   "metadata": {},
   "outputs": [],
   "source": [
    "class Backtest:\n",
    "    \n",
    "    def __init__(self, symbol):\n",
    "        self.symbol = symbol\n",
    "        data = client.get_ticker_price(symbol,\n",
    "                                            fmt='json',\n",
    "                                            startDate='2017-08-01',\n",
    "                                            endDate='2017-08-31',\n",
    "                                            frequency='1Min')\n",
    "        self.df = pd.DataFrame(data)\n",
    "        \n",
    "        \n",
    "    # def calc_indicators():\n",
    "    # def generate_signals():\n",
    "    # def match_signals():\n",
    "    # def calc_profit():"
   ]
  },
  {
   "cell_type": "code",
   "execution_count": 6,
   "id": "f53b0e16-e18d-4289-b463-bd8e18a3da28",
   "metadata": {},
   "outputs": [],
   "source": [
    "tesla = Backtest(\"TSLA\")"
   ]
  },
  {
   "cell_type": "code",
   "execution_count": 7,
   "id": "99f89fce-c814-4f9e-9b2e-a297a752e2a1",
   "metadata": {},
   "outputs": [
    {
     "data": {
      "text/html": [
       "<div>\n",
       "<style scoped>\n",
       "    .dataframe tbody tr th:only-of-type {\n",
       "        vertical-align: middle;\n",
       "    }\n",
       "\n",
       "    .dataframe tbody tr th {\n",
       "        vertical-align: top;\n",
       "    }\n",
       "\n",
       "    .dataframe thead th {\n",
       "        text-align: right;\n",
       "    }\n",
       "</style>\n",
       "<table border=\"1\" class=\"dataframe\">\n",
       "  <thead>\n",
       "    <tr style=\"text-align: right;\">\n",
       "      <th></th>\n",
       "      <th>date</th>\n",
       "      <th>close</th>\n",
       "      <th>high</th>\n",
       "      <th>low</th>\n",
       "      <th>open</th>\n",
       "    </tr>\n",
       "  </thead>\n",
       "  <tbody>\n",
       "    <tr>\n",
       "      <th>0</th>\n",
       "      <td>2017-08-01T13:30:00.000Z</td>\n",
       "      <td>321.935</td>\n",
       "      <td>322.750</td>\n",
       "      <td>321.590</td>\n",
       "      <td>322.750</td>\n",
       "    </tr>\n",
       "    <tr>\n",
       "      <th>1</th>\n",
       "      <td>2017-08-01T13:31:00.000Z</td>\n",
       "      <td>321.935</td>\n",
       "      <td>321.935</td>\n",
       "      <td>321.935</td>\n",
       "      <td>321.935</td>\n",
       "    </tr>\n",
       "    <tr>\n",
       "      <th>2</th>\n",
       "      <td>2017-08-01T13:32:00.000Z</td>\n",
       "      <td>320.500</td>\n",
       "      <td>320.700</td>\n",
       "      <td>319.990</td>\n",
       "      <td>320.700</td>\n",
       "    </tr>\n",
       "    <tr>\n",
       "      <th>3</th>\n",
       "      <td>2017-08-01T13:33:00.000Z</td>\n",
       "      <td>320.500</td>\n",
       "      <td>321.200</td>\n",
       "      <td>320.500</td>\n",
       "      <td>320.500</td>\n",
       "    </tr>\n",
       "    <tr>\n",
       "      <th>4</th>\n",
       "      <td>2017-08-01T13:34:00.000Z</td>\n",
       "      <td>320.500</td>\n",
       "      <td>320.500</td>\n",
       "      <td>320.500</td>\n",
       "      <td>320.500</td>\n",
       "    </tr>\n",
       "  </tbody>\n",
       "</table>\n",
       "</div>"
      ],
      "text/plain": [
       "                       date    close     high      low     open\n",
       "0  2017-08-01T13:30:00.000Z  321.935  322.750  321.590  322.750\n",
       "1  2017-08-01T13:31:00.000Z  321.935  321.935  321.935  321.935\n",
       "2  2017-08-01T13:32:00.000Z  320.500  320.700  319.990  320.700\n",
       "3  2017-08-01T13:33:00.000Z  320.500  321.200  320.500  320.500\n",
       "4  2017-08-01T13:34:00.000Z  320.500  320.500  320.500  320.500"
      ]
     },
     "execution_count": 7,
     "metadata": {},
     "output_type": "execute_result"
    }
   ],
   "source": [
    "tesla.df.head()"
   ]
  }
 ],
 "metadata": {
  "kernelspec": {
   "display_name": "Python 3 (ipykernel)",
   "language": "python",
   "name": "python3"
  },
  "language_info": {
   "codemirror_mode": {
    "name": "ipython",
    "version": 3
   },
   "file_extension": ".py",
   "mimetype": "text/x-python",
   "name": "python",
   "nbconvert_exporter": "python",
   "pygments_lexer": "ipython3",
   "version": "3.10.2"
  }
 },
 "nbformat": 4,
 "nbformat_minor": 5
}
