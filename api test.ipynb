{
 "cells": [
  {
   "cell_type": "code",
   "execution_count": 45,
   "id": "e2abb69d-e685-4703-b99b-231ddba9ed45",
   "metadata": {},
   "outputs": [],
   "source": [
    "import pandas as pd\n",
    "import requests"
   ]
  },
  {
   "cell_type": "code",
   "execution_count": 46,
   "id": "5abdb686-3d63-4351-bb97-2cc231c5f3ad",
   "metadata": {},
   "outputs": [],
   "source": [
    "headers = {\n",
    "        'Content-Type': 'application/json'\n",
    "        }\n",
    "requeestRespons = requests.get(\"https://api.tiingo.com/tiingo/daily/TSLA/prices?startDate=2012-1-1&endDate=2016-1-1?token=635bdbd888f766a407a43a68f241602aa5b218b9\",\n",
    "                                    headers=headers)"
   ]
  },
  {
   "cell_type": "code",
   "execution_count": 47,
   "id": "eb7aac22-e6da-43ee-b1b9-fe930516ae6c",
   "metadata": {},
   "outputs": [
    {
     "data": {
      "text/html": [
       "<div>\n",
       "<style scoped>\n",
       "    .dataframe tbody tr th:only-of-type {\n",
       "        vertical-align: middle;\n",
       "    }\n",
       "\n",
       "    .dataframe tbody tr th {\n",
       "        vertical-align: top;\n",
       "    }\n",
       "\n",
       "    .dataframe thead th {\n",
       "        text-align: right;\n",
       "    }\n",
       "</style>\n",
       "<table border=\"1\" class=\"dataframe\">\n",
       "  <thead>\n",
       "    <tr style=\"text-align: right;\">\n",
       "      <th></th>\n",
       "      <th>0</th>\n",
       "    </tr>\n",
       "  </thead>\n",
       "  <tbody>\n",
       "    <tr>\n",
       "      <th>0</th>\n",
       "      <td>b'{\"detail\":\"Please supply a token\"}'</td>\n",
       "    </tr>\n",
       "  </tbody>\n",
       "</table>\n",
       "</div>"
      ],
      "text/plain": [
       "                                       0\n",
       "0  b'{\"detail\":\"Please supply a token\"}'"
      ]
     },
     "execution_count": 47,
     "metadata": {},
     "output_type": "execute_result"
    }
   ],
   "source": [
    "df = pd.DataFrame(data=requeestRespons)\n",
    "df.head()"
   ]
  },
  {
   "cell_type": "code",
   "execution_count": 50,
   "id": "5349817d-0290-4261-9f0e-07d7ed96670a",
   "metadata": {},
   "outputs": [],
   "source": [
    "from tiingo import TiingoClient\n",
    "config = {}\n",
    "\n",
    "# To reuse the same HTTP Session across API calls (and have better performance), include a session key.\n",
    "config['session'] = True\n",
    "\n",
    "# If you don't have your API key as an environment variable,\n",
    "# pass it in via a configuration dictionary.\n",
    "config['api_key'] = \"635bdbd888f766a407a43a68f241602aa5b218b9\"\n",
    "\n",
    "# Initialize\n",
    "client = TiingoClient(config)\n"
   ]
  },
  {
   "cell_type": "code",
   "execution_count": 66,
   "id": "f0fb14e9-ed0e-4b51-a7ab-4cbced8007ef",
   "metadata": {},
   "outputs": [],
   "source": [
    "historical_prices = client.get_ticker_price(\"GOOGL\",\n",
    "                                            fmt='json',\n",
    "                                            startDate='2017-08-01',\n",
    "                                            endDate='2017-08-31',\n",
    "                                            frequency='1Min')"
   ]
  },
  {
   "cell_type": "code",
   "execution_count": 67,
   "id": "33d7cc3f-05af-49e6-822d-22923e7ffcc4",
   "metadata": {},
   "outputs": [
    {
     "data": {
      "text/html": [
       "<div>\n",
       "<style scoped>\n",
       "    .dataframe tbody tr th:only-of-type {\n",
       "        vertical-align: middle;\n",
       "    }\n",
       "\n",
       "    .dataframe tbody tr th {\n",
       "        vertical-align: top;\n",
       "    }\n",
       "\n",
       "    .dataframe thead th {\n",
       "        text-align: right;\n",
       "    }\n",
       "</style>\n",
       "<table border=\"1\" class=\"dataframe\">\n",
       "  <thead>\n",
       "    <tr style=\"text-align: right;\">\n",
       "      <th></th>\n",
       "      <th>date</th>\n",
       "      <th>close</th>\n",
       "      <th>high</th>\n",
       "      <th>low</th>\n",
       "      <th>open</th>\n",
       "    </tr>\n",
       "  </thead>\n",
       "  <tbody>\n",
       "    <tr>\n",
       "      <th>0</th>\n",
       "      <td>2017-08-01T13:30:00.000Z</td>\n",
       "      <td>950.67</td>\n",
       "      <td>950.67</td>\n",
       "      <td>950.22</td>\n",
       "      <td>950.60</td>\n",
       "    </tr>\n",
       "    <tr>\n",
       "      <th>1</th>\n",
       "      <td>2017-08-01T13:31:00.000Z</td>\n",
       "      <td>950.67</td>\n",
       "      <td>950.67</td>\n",
       "      <td>950.67</td>\n",
       "      <td>950.67</td>\n",
       "    </tr>\n",
       "    <tr>\n",
       "      <th>2</th>\n",
       "      <td>2017-08-01T13:32:00.000Z</td>\n",
       "      <td>949.47</td>\n",
       "      <td>952.69</td>\n",
       "      <td>949.47</td>\n",
       "      <td>952.69</td>\n",
       "    </tr>\n",
       "    <tr>\n",
       "      <th>3</th>\n",
       "      <td>2017-08-01T13:33:00.000Z</td>\n",
       "      <td>949.47</td>\n",
       "      <td>949.47</td>\n",
       "      <td>949.47</td>\n",
       "      <td>949.47</td>\n",
       "    </tr>\n",
       "    <tr>\n",
       "      <th>4</th>\n",
       "      <td>2017-08-01T13:34:00.000Z</td>\n",
       "      <td>949.47</td>\n",
       "      <td>949.47</td>\n",
       "      <td>949.47</td>\n",
       "      <td>949.47</td>\n",
       "    </tr>\n",
       "  </tbody>\n",
       "</table>\n",
       "</div>"
      ],
      "text/plain": [
       "                       date   close    high     low    open\n",
       "0  2017-08-01T13:30:00.000Z  950.67  950.67  950.22  950.60\n",
       "1  2017-08-01T13:31:00.000Z  950.67  950.67  950.67  950.67\n",
       "2  2017-08-01T13:32:00.000Z  949.47  952.69  949.47  952.69\n",
       "3  2017-08-01T13:33:00.000Z  949.47  949.47  949.47  949.47\n",
       "4  2017-08-01T13:34:00.000Z  949.47  949.47  949.47  949.47"
      ]
     },
     "execution_count": 67,
     "metadata": {},
     "output_type": "execute_result"
    }
   ],
   "source": [
    "df = pd.DataFrame(historical_prices)\n",
    "\n",
    "df.head()"
   ]
  },
  {
   "cell_type": "code",
   "execution_count": 69,
   "id": "f98318cc-8722-436b-a0f0-18ab6320ab60",
   "metadata": {},
   "outputs": [
    {
     "name": "stdout",
     "output_type": "stream",
     "text": [
      "[{'ticker': '000001', 'exchange': 'SHE', 'assetType': 'Stock', 'priceCurrency': 'CNY', 'startDate': '2007-01-04', 'endDate': '2022-12-09'}, {'ticker': '000002', 'exchange': 'SHE', 'assetType': 'Stock', 'priceCurrency': 'CNY', 'startDate': '2007-01-04', 'endDate': '2022-12-09'}, {'ticker': '000003', 'exchange': 'SHE', 'assetType': 'Stock', 'priceCurrency': 'CNY', 'startDate': '', 'endDate': ''}, {'ticker': '000004', 'exchange': 'SHE', 'assetType': 'Stock', 'priceCurrency': 'CNY', 'startDate': '2007-08-31', 'endDate': '2022-12-09'}, {'ticker': '000005', 'exchange': 'SHE', 'assetType': 'Stock', 'priceCurrency': 'CNY', 'startDate': '2007-08-31', 'endDate': '2022-12-09'}, {'ticker': '000006', 'exchange': 'SHE', 'assetType': 'Stock', 'priceCurrency': 'CNY', 'startDate': '2007-01-04', 'endDate': '2022-12-09'}, {'ticker': '000007', 'exchange': 'SHE', 'assetType': 'Stock', 'priceCurrency': 'CNY', 'startDate': '2007-08-31', 'endDate': '2022-12-09'}, {'ticker': '000008', 'exchange': 'SHE', 'assetType': 'Stock', 'priceCurrency': 'CNY', 'startDate': '2007-01-04', 'endDate': '2022-12-09'}, {'ticker': '000009', 'exchange': 'SHE', 'assetType': 'Stock', 'priceCurrency': 'CNY', 'startDate': '2007-01-05', 'endDate': '2022-12-09'}, {'ticker': '000010', 'exchange': 'SHE', 'assetType': 'Stock', 'priceCurrency': 'CNY', 'startDate': '2007-08-31', 'endDate': '2022-12-09'}]\n"
     ]
    }
   ],
   "source": [
    "print(client.list_stock_tickers()[0:10])"
   ]
  }
 ],
 "metadata": {
  "kernelspec": {
   "display_name": "Python 3 (ipykernel)",
   "language": "python",
   "name": "python3"
  },
  "language_info": {
   "codemirror_mode": {
    "name": "ipython",
    "version": 3
   },
   "file_extension": ".py",
   "mimetype": "text/x-python",
   "name": "python",
   "nbconvert_exporter": "python",
   "pygments_lexer": "ipython3",
   "version": "3.10.2"
  }
 },
 "nbformat": 4,
 "nbformat_minor": 5
}
