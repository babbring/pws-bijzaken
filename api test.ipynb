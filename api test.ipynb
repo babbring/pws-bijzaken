{
 "cells": [
  {
   "cell_type": "code",
   "execution_count": 45,
   "id": "e2abb69d-e685-4703-b99b-231ddba9ed45",
   "metadata": {},
   "outputs": [],
   "source": [
    "import pandas as pd\n",
    "import requests"
   ]
  },
  {
   "cell_type": "code",
   "execution_count": 46,
   "id": "5abdb686-3d63-4351-bb97-2cc231c5f3ad",
   "metadata": {},
   "outputs": [],
   "source": [
    "headers = {\n",
    "        'Content-Type': 'application/json'\n",
    "        }\n",
    "requeestRespons = requests.get(\"https://api.tiingo.com/tiingo/daily/TSLA/prices?startDate=2012-1-1&endDate=2016-1-1?token=635bdbd888f766a407a43a68f241602aa5b218b9\",\n",
    "                                    headers=headers)"
   ]
  },
  {
   "cell_type": "code",
   "execution_count": 47,
   "id": "eb7aac22-e6da-43ee-b1b9-fe930516ae6c",
   "metadata": {},
   "outputs": [
    {
     "data": {
      "text/html": [
       "<div>\n",
       "<style scoped>\n",
       "    .dataframe tbody tr th:only-of-type {\n",
       "        vertical-align: middle;\n",
       "    }\n",
       "\n",
       "    .dataframe tbody tr th {\n",
       "        vertical-align: top;\n",
       "    }\n",
       "\n",
       "    .dataframe thead th {\n",
       "        text-align: right;\n",
       "    }\n",
       "</style>\n",
       "<table border=\"1\" class=\"dataframe\">\n",
       "  <thead>\n",
       "    <tr style=\"text-align: right;\">\n",
       "      <th></th>\n",
       "      <th>0</th>\n",
       "    </tr>\n",
       "  </thead>\n",
       "  <tbody>\n",
       "    <tr>\n",
       "      <th>0</th>\n",
       "      <td>b'{\"detail\":\"Please supply a token\"}'</td>\n",
       "    </tr>\n",
       "  </tbody>\n",
       "</table>\n",
       "</div>"
      ],
      "text/plain": [
       "                                       0\n",
       "0  b'{\"detail\":\"Please supply a token\"}'"
      ]
     },
     "execution_count": 47,
     "metadata": {},
     "output_type": "execute_result"
    }
   ],
   "source": [
    "df = pd.DataFrame(data=requeestRespons)\n",
    "df.head()"
   ]
  },
  {
   "cell_type": "code",
   "execution_count": 50,
   "id": "5349817d-0290-4261-9f0e-07d7ed96670a",
   "metadata": {},
   "outputs": [],
   "source": [
    "from tiingo import TiingoClient\n",
    "config = {}\n",
    "\n",
    "# To reuse the same HTTP Session across API calls (and have better performance), include a session key.\n",
    "config['session'] = True\n",
    "\n",
    "# If you don't have your API key as an environment variable,\n",
    "# pass it in via a configuration dictionary.\n",
    "config['api_key'] = \"635bdbd888f766a407a43a68f241602aa5b218b9\"\n",
    "\n",
    "# Initialize\n",
    "client = TiingoClient(config)\n"
   ]
  },
  {
   "cell_type": "code",
   "execution_count": 66,
   "id": "f0fb14e9-ed0e-4b51-a7ab-4cbced8007ef",
   "metadata": {},
   "outputs": [],
   "source": [
    "historical_prices = client.get_ticker_price(\"GOOGL\",\n",
    "                                            fmt='json',\n",
    "                                            startDate='2017-08-01',\n",
    "                                            endDate='2017-08-31',\n",
    "                                            frequency='1Min')"
   ]
  },
  {
   "cell_type": "code",
   "execution_count": 67,
   "id": "33d7cc3f-05af-49e6-822d-22923e7ffcc4",
   "metadata": {},
   "outputs": [
    {
     "data": {
      "text/html": [
       "<div>\n",
       "<style scoped>\n",
       "    .dataframe tbody tr th:only-of-type {\n",
       "        vertical-align: middle;\n",
       "    }\n",
       "\n",
       "    .dataframe tbody tr th {\n",
       "        vertical-align: top;\n",
       "    }\n",
       "\n",
       "    .dataframe thead th {\n",
       "        text-align: right;\n",
       "    }\n",
       "</style>\n",
       "<table border=\"1\" class=\"dataframe\">\n",
       "  <thead>\n",
       "    <tr style=\"text-align: right;\">\n",
       "      <th></th>\n",
       "      <th>date</th>\n",
       "      <th>close</th>\n",
       "      <th>high</th>\n",
       "      <th>low</th>\n",
       "      <th>open</th>\n",
       "    </tr>\n",
       "  </thead>\n",
       "  <tbody>\n",
       "    <tr>\n",
       "      <th>0</th>\n",
       "      <td>2017-08-01T13:30:00.000Z</td>\n",
       "      <td>950.67</td>\n",
       "      <td>950.67</td>\n",
       "      <td>950.22</td>\n",
       "      <td>950.60</td>\n",
       "    </tr>\n",
       "    <tr>\n",
       "      <th>1</th>\n",
       "      <td>2017-08-01T13:31:00.000Z</td>\n",
       "      <td>950.67</td>\n",
       "      <td>950.67</td>\n",
       "      <td>950.67</td>\n",
       "      <td>950.67</td>\n",
       "    </tr>\n",
       "    <tr>\n",
       "      <th>2</th>\n",
       "      <td>2017-08-01T13:32:00.000Z</td>\n",
       "      <td>949.47</td>\n",
       "      <td>952.69</td>\n",
       "      <td>949.47</td>\n",
       "      <td>952.69</td>\n",
       "    </tr>\n",
       "    <tr>\n",
       "      <th>3</th>\n",
       "      <td>2017-08-01T13:33:00.000Z</td>\n",
       "      <td>949.47</td>\n",
       "      <td>949.47</td>\n",
       "      <td>949.47</td>\n",
       "      <td>949.47</td>\n",
       "    </tr>\n",
       "    <tr>\n",
       "      <th>4</th>\n",
       "      <td>2017-08-01T13:34:00.000Z</td>\n",
       "      <td>949.47</td>\n",
       "      <td>949.47</td>\n",
       "      <td>949.47</td>\n",
       "      <td>949.47</td>\n",
       "    </tr>\n",
       "  </tbody>\n",
       "</table>\n",
       "</div>"
      ],
      "text/plain": [
       "                       date   close    high     low    open\n",
       "0  2017-08-01T13:30:00.000Z  950.67  950.67  950.22  950.60\n",
       "1  2017-08-01T13:31:00.000Z  950.67  950.67  950.67  950.67\n",
       "2  2017-08-01T13:32:00.000Z  949.47  952.69  949.47  952.69\n",
       "3  2017-08-01T13:33:00.000Z  949.47  949.47  949.47  949.47\n",
       "4  2017-08-01T13:34:00.000Z  949.47  949.47  949.47  949.47"
      ]
     },
     "execution_count": 67,
     "metadata": {},
     "output_type": "execute_result"
    }
   ],
   "source": [
    "df = pd.DataFrame(historical_prices)\n",
    "\n",
    "df.head()"
   ]
  },
  {
   "cell_type": "code",
   "execution_count": 69,
   "id": "f98318cc-8722-436b-a0f0-18ab6320ab60",
   "metadata": {},
   "outputs": [
    {
     "name": "stdout",
     "output_type": "stream",
     "text": [
      "[{'ticker': '000001', 'exchange': 'SHE', 'assetType': 'Stock', 'priceCurrency': 'CNY', 'startDate': '2007-01-04', 'endDate': '2022-12-09'}, {'ticker': '000002', 'exchange': 'SHE', 'assetType': 'Stock', 'priceCurrency': 'CNY', 'startDate': '2007-01-04', 'endDate': '2022-12-09'}, {'ticker': '000003', 'exchange': 'SHE', 'assetType': 'Stock', 'priceCurrency': 'CNY', 'startDate': '', 'endDate': ''}, {'ticker': '000004', 'exchange': 'SHE', 'assetType': 'Stock', 'priceCurrency': 'CNY', 'startDate': '2007-08-31', 'endDate': '2022-12-09'}, {'ticker': '000005', 'exchange': 'SHE', 'assetType': 'Stock', 'priceCurrency': 'CNY', 'startDate': '2007-08-31', 'endDate': '2022-12-09'}, {'ticker': '000006', 'exchange': 'SHE', 'assetType': 'Stock', 'priceCurrency': 'CNY', 'startDate': '2007-01-04', 'endDate': '2022-12-09'}, {'ticker': '000007', 'exchange': 'SHE', 'assetType': 'Stock', 'priceCurrency': 'CNY', 'startDate': '2007-08-31', 'endDate': '2022-12-09'}, {'ticker': '000008', 'exchange': 'SHE', 'assetType': 'Stock', 'priceCurrency': 'CNY', 'startDate': '2007-01-04', 'endDate': '2022-12-09'}, {'ticker': '000009', 'exchange': 'SHE', 'assetType': 'Stock', 'priceCurrency': 'CNY', 'startDate': '2007-01-05', 'endDate': '2022-12-09'}, {'ticker': '000010', 'exchange': 'SHE', 'assetType': 'Stock', 'priceCurrency': 'CNY', 'startDate': '2007-08-31', 'endDate': '2022-12-09'}]\n"
     ]
    }
   ],
   "source": [
    "print(client.list_stock_tickers()[0:10])"
   ]
  },
  {
   "cell_type": "code",
   "execution_count": 1,
   "id": "f73f7f1a-628c-4cf7-9a88-0c9e2de35766",
   "metadata": {},
   "outputs": [],
   "source": [
    "import pandas as pd\n",
    "import numpy as np\n",
    "import ta\n",
    "import matplotlib.pyplot as plt\n",
    "from tiingo import TiingoClient"
   ]
  },
  {
   "cell_type": "code",
   "execution_count": 2,
   "id": "57c20995-3e99-4269-b599-d0845c8b9116",
   "metadata": {},
   "outputs": [],
   "source": [
    "config = {}\n",
    "config['session'] = True\n",
    "config['api_key'] = \"635bdbd888f766a407a43a68f241602aa5b218b9\"\n",
    "\n",
    "client = TiingoClient(config)"
   ]
  },
  {
   "cell_type": "code",
   "execution_count": 13,
   "id": "6cc799a7-b96b-4c5c-b59d-8f65aaf1ea0a",
   "metadata": {},
   "outputs": [],
   "source": [
    "data = client.get_ticker_price(\"AAPL\",\n",
    "                                    fmt='json',\n",
    "                                    startDate='2010-01-01',\n",
    "                                    endDate='2022-6-1',\n",
    "                                    frequency='1hour')\n",
    "df = pd.DataFrame(data)\n",
    "df = df.set_index('date').sort_index()\n"
   ]
  },
  {
   "cell_type": "code",
   "execution_count": 14,
   "id": "170e6ad5-80d1-4e8e-a5d8-d0c400809ee6",
   "metadata": {
    "collapsed": true,
    "jupyter": {
     "outputs_hidden": true
    },
    "tags": []
   },
   "outputs": [
    {
     "data": {
      "text/html": [
       "<div>\n",
       "<style scoped>\n",
       "    .dataframe tbody tr th:only-of-type {\n",
       "        vertical-align: middle;\n",
       "    }\n",
       "\n",
       "    .dataframe tbody tr th {\n",
       "        vertical-align: top;\n",
       "    }\n",
       "\n",
       "    .dataframe thead th {\n",
       "        text-align: right;\n",
       "    }\n",
       "</style>\n",
       "<table border=\"1\" class=\"dataframe\">\n",
       "  <thead>\n",
       "    <tr style=\"text-align: right;\">\n",
       "      <th></th>\n",
       "      <th>close</th>\n",
       "      <th>high</th>\n",
       "      <th>low</th>\n",
       "      <th>open</th>\n",
       "    </tr>\n",
       "    <tr>\n",
       "      <th>date</th>\n",
       "      <th></th>\n",
       "      <th></th>\n",
       "      <th></th>\n",
       "      <th></th>\n",
       "    </tr>\n",
       "  </thead>\n",
       "  <tbody>\n",
       "    <tr>\n",
       "      <th>2016-12-12T15:00:00.000Z</th>\n",
       "      <td>113.090</td>\n",
       "      <td>113.090</td>\n",
       "      <td>112.525</td>\n",
       "      <td>112.995</td>\n",
       "    </tr>\n",
       "    <tr>\n",
       "      <th>2016-12-12T16:00:00.000Z</th>\n",
       "      <td>112.990</td>\n",
       "      <td>113.130</td>\n",
       "      <td>112.870</td>\n",
       "      <td>113.120</td>\n",
       "    </tr>\n",
       "    <tr>\n",
       "      <th>2016-12-12T17:00:00.000Z</th>\n",
       "      <td>113.005</td>\n",
       "      <td>113.035</td>\n",
       "      <td>112.705</td>\n",
       "      <td>112.995</td>\n",
       "    </tr>\n",
       "    <tr>\n",
       "      <th>2016-12-12T18:00:00.000Z</th>\n",
       "      <td>112.835</td>\n",
       "      <td>115.000</td>\n",
       "      <td>112.740</td>\n",
       "      <td>113.000</td>\n",
       "    </tr>\n",
       "    <tr>\n",
       "      <th>2016-12-12T19:00:00.000Z</th>\n",
       "      <td>112.960</td>\n",
       "      <td>113.110</td>\n",
       "      <td>112.755</td>\n",
       "      <td>112.830</td>\n",
       "    </tr>\n",
       "  </tbody>\n",
       "</table>\n",
       "</div>"
      ],
      "text/plain": [
       "                            close     high      low     open\n",
       "date                                                        \n",
       "2016-12-12T15:00:00.000Z  113.090  113.090  112.525  112.995\n",
       "2016-12-12T16:00:00.000Z  112.990  113.130  112.870  113.120\n",
       "2016-12-12T17:00:00.000Z  113.005  113.035  112.705  112.995\n",
       "2016-12-12T18:00:00.000Z  112.835  115.000  112.740  113.000\n",
       "2016-12-12T19:00:00.000Z  112.960  113.110  112.755  112.830"
      ]
     },
     "execution_count": 14,
     "metadata": {},
     "output_type": "execute_result"
    }
   ],
   "source": [
    "df.head()"
   ]
  },
  {
   "cell_type": "code",
   "execution_count": 15,
   "id": "6673b3c1-808b-4abd-bcfc-3a3effd85a89",
   "metadata": {
    "collapsed": true,
    "jupyter": {
     "outputs_hidden": true
    },
    "tags": []
   },
   "outputs": [
    {
     "data": {
      "text/plain": [
       "<AxesSubplot:xlabel='date'>"
      ]
     },
     "execution_count": 15,
     "metadata": {},
     "output_type": "execute_result"
    },
    {
     "data": {
      "image/png": "[encoded data removed]",
      "text/plain": [
       "<Figure size 1440x432 with 1 Axes>"
      ]
     },
     "metadata": {
      "needs_background": "light"
     },
     "output_type": "display_data"
    }
   ],
   "source": [
    "df[\"close\"].plot(figsize=(20,6))"
   ]
  },
  {
   "cell_type": "code",
   "execution_count": 11,
   "id": "f5747fbf-d5b4-41a0-9ee2-329bf6a09aeb",
   "metadata": {},
   "outputs": [],
   "source": [
    "import pandas as pd\n",
    "import numpy as np\n",
    "import matplotlib.pyplot as plt\n",
    "import requests\n",
    "import json"
   ]
  },
  {
   "cell_type": "code",
   "execution_count": 12,
   "id": "6df9d558-c874-4fe1-9f7f-16e5c43015a0",
   "metadata": {},
   "outputs": [],
   "source": [
    "\n",
    "symbol = \"TSLA\"\n",
    "requeestRespons = requests.get(f\"https://www.alphavantage.co/query?function=TIME_SERIES_INTRADAY_EXTENDED&symbol={symbol}&interval=15min&slice=year1month1&apikey=R9PZNQ5V0SURGXPO\")"
   ]
  },
  {
   "cell_type": "code",
   "execution_count": 13,
   "id": "e7c592f8-28f4-4270-9d70-3a3d321dafb8",
   "metadata": {},
   "outputs": [
    {
     "ename": "TypeError",
     "evalue": "the JSON object must be str, bytes or bytearray, not Response",
     "output_type": "error",
     "traceback": [
      "\u001b[1;31m---------------------------------------------------------------------------\u001b[0m",
      "\u001b[1;31mTypeError\u001b[0m                                 Traceback (most recent call last)",
      "Input \u001b[1;32mIn [13]\u001b[0m, in \u001b[0;36m<cell line: 1>\u001b[1;34m()\u001b[0m\n\u001b[1;32m----> 1\u001b[0m data_dict \u001b[38;5;241m=\u001b[39m \u001b[43mjson\u001b[49m\u001b[38;5;241;43m.\u001b[39;49m\u001b[43mloads\u001b[49m\u001b[43m(\u001b[49m\u001b[43mrequeestRespons\u001b[49m\u001b[43m)\u001b[49m\n\u001b[0;32m      2\u001b[0m df \u001b[38;5;241m=\u001b[39m pd\u001b[38;5;241m.\u001b[39mDataFrame(data_dict[\u001b[38;5;124m\"\u001b[39m\u001b[38;5;124mTime Series ()\u001b[39m\u001b[38;5;124m\"\u001b[39m])\n",
      "File \u001b[1;32m~\\AppData\\Local\\Programs\\Python\\Python310\\lib\\json\\__init__.py:339\u001b[0m, in \u001b[0;36mloads\u001b[1;34m(s, cls, object_hook, parse_float, parse_int, parse_constant, object_pairs_hook, **kw)\u001b[0m\n\u001b[0;32m    337\u001b[0m \u001b[38;5;28;01melse\u001b[39;00m:\n\u001b[0;32m    338\u001b[0m     \u001b[38;5;28;01mif\u001b[39;00m \u001b[38;5;129;01mnot\u001b[39;00m \u001b[38;5;28misinstance\u001b[39m(s, (\u001b[38;5;28mbytes\u001b[39m, \u001b[38;5;28mbytearray\u001b[39m)):\n\u001b[1;32m--> 339\u001b[0m         \u001b[38;5;28;01mraise\u001b[39;00m \u001b[38;5;167;01mTypeError\u001b[39;00m(\u001b[38;5;124mf\u001b[39m\u001b[38;5;124m'\u001b[39m\u001b[38;5;124mthe JSON object must be str, bytes or bytearray, \u001b[39m\u001b[38;5;124m'\u001b[39m\n\u001b[0;32m    340\u001b[0m                         \u001b[38;5;124mf\u001b[39m\u001b[38;5;124m'\u001b[39m\u001b[38;5;124mnot \u001b[39m\u001b[38;5;132;01m{\u001b[39;00ms\u001b[38;5;241m.\u001b[39m\u001b[38;5;18m__class__\u001b[39m\u001b[38;5;241m.\u001b[39m\u001b[38;5;18m__name__\u001b[39m\u001b[38;5;132;01m}\u001b[39;00m\u001b[38;5;124m'\u001b[39m)\n\u001b[0;32m    341\u001b[0m     s \u001b[38;5;241m=\u001b[39m s\u001b[38;5;241m.\u001b[39mdecode(detect_encoding(s), \u001b[38;5;124m'\u001b[39m\u001b[38;5;124msurrogatepass\u001b[39m\u001b[38;5;124m'\u001b[39m)\n\u001b[0;32m    343\u001b[0m \u001b[38;5;28;01mif\u001b[39;00m (\u001b[38;5;28mcls\u001b[39m \u001b[38;5;129;01mis\u001b[39;00m \u001b[38;5;28;01mNone\u001b[39;00m \u001b[38;5;129;01mand\u001b[39;00m object_hook \u001b[38;5;129;01mis\u001b[39;00m \u001b[38;5;28;01mNone\u001b[39;00m \u001b[38;5;129;01mand\u001b[39;00m\n\u001b[0;32m    344\u001b[0m         parse_int \u001b[38;5;129;01mis\u001b[39;00m \u001b[38;5;28;01mNone\u001b[39;00m \u001b[38;5;129;01mand\u001b[39;00m parse_float \u001b[38;5;129;01mis\u001b[39;00m \u001b[38;5;28;01mNone\u001b[39;00m \u001b[38;5;129;01mand\u001b[39;00m\n\u001b[0;32m    345\u001b[0m         parse_constant \u001b[38;5;129;01mis\u001b[39;00m \u001b[38;5;28;01mNone\u001b[39;00m \u001b[38;5;129;01mand\u001b[39;00m object_pairs_hook \u001b[38;5;129;01mis\u001b[39;00m \u001b[38;5;28;01mNone\u001b[39;00m \u001b[38;5;129;01mand\u001b[39;00m \u001b[38;5;129;01mnot\u001b[39;00m kw):\n",
      "\u001b[1;31mTypeError\u001b[0m: the JSON object must be str, bytes or bytearray, not Response"
     ]
    }
   ],
   "source": [
    "data_dict = json.loads(requeestRespons)\n",
    "df = pd.DataFrame(data_dict[\"Time Series ()\"])"
   ]
  },
  {
   "cell_type": "code",
   "execution_count": null,
   "id": "a26f5c75-5bfe-454c-9060-e60c0ebe0a0a",
   "metadata": {},
   "outputs": [],
   "source": []
  }
 ],
 "metadata": {
  "kernelspec": {
   "display_name": "Python 3 (ipykernel)",
   "language": "python",
   "name": "python3"
  },
  "language_info": {
   "codemirror_mode": {
    "name": "ipython",
    "version": 3
   },
   "file_extension": ".py",
   "mimetype": "text/x-python",
   "name": "python",
   "nbconvert_exporter": "python",
   "pygments_lexer": "ipython3",
   "version": "3.10.2"
  }
 },
 "nbformat": 4,
 "nbformat_minor": 5
}
